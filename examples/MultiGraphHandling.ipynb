{
 "cells": [
  {
   "cell_type": "code",
   "execution_count": 1,
   "metadata": {},
   "outputs": [],
   "source": [
    "from NetworkAnalysis.UndirectedInteractionNetwork import UndirectedInteractionNetwork\n",
    "from NetworkAnalysis.MultiGraph import MultiGraph\n",
    "import matplotlib.pyplot as plt\n",
    "import seaborn as sns\n",
    "import pandas as pd\n",
    "import numpy as np\n",
    "import random"
   ]
  },
  {
   "cell_type": "code",
   "execution_count": 2,
   "metadata": {},
   "outputs": [
    {
     "name": "stdout",
     "output_type": "stream",
     "text": [
      "13751 Nodes and 257496 interactions\n",
      "13751 Nodes and 257496 interactions\n"
     ]
    }
   ],
   "source": [
    "# Initialize scaffold\n",
    "GRAPH_PATH = \"/home/bioit/pstrybol/ppi_network_scaffolds/reactome_2021.txt\"\n",
    "\n",
    "\n",
    "reactome = pd.read_csv(GRAPH_PATH, sep='\\t')\n",
    "colnames = ['Gene1', 'Gene2'] # Select relevant columns from the edgelist\n",
    "# Initialize an UndirectedInteractionNetwork object\n",
    "nw_obj = UndirectedInteractionNetwork(reactome, colnames=colnames,\n",
    "                                      keeplargestcomponent=True,\n",
    "                                      node_types={name: \"gene\" for name in pd.unique(reactome[colnames].values.ravel())})\n",
    "\n"
   ]
  },
  {
   "cell_type": "code",
   "execution_count": 3,
   "metadata": {},
   "outputs": [
    {
     "name": "stdout",
     "output_type": "stream",
     "text": [
      "4178 Nodes and 4900 interactions\n"
     ]
    }
   ],
   "source": [
    "# Randomly generate cell line - gene pairs\n",
    "# Let's say we have 50 cell lines with each 100 dependencies\n",
    "\n",
    "cell2dependency = {f\"C{i}\": random.sample(list(nw_obj.node_names), k=100) for i in range(1, 50)}\n",
    "cellEdge_list = pd.DataFrame(cell2dependency).melt()\n",
    "\n",
    "cell_node_type = {i: \"gene\" if i in nw_obj.node_names else \"cellLine\" for i in cellEdge_list.values.ravel()}\n",
    "\n",
    "cell_nw_obj = UndirectedInteractionNetwork(cellEdge_list,\n",
    "                                           keeplargestcomponent=False,\n",
    "                                           node_types=cell_node_type)"
   ]
  },
  {
   "cell_type": "code",
   "execution_count": 4,
   "metadata": {},
   "outputs": [
    {
     "name": "stdout",
     "output_type": "stream",
     "text": [
      "13794 Nodes and 262396 interactions\n",
      "        Gene_A    Gene_B              type\n",
      "0       16-5-5     CDC42          scaffold\n",
      "1       16-5-5     PARD3          scaffold\n",
      "2       16-5-5    PARD3B          scaffold\n",
      "3         A1CF   APOBEC1          scaffold\n",
      "4         A1CF     EP300          scaffold\n",
      "...        ...       ...               ...\n",
      "262391     C49      TYK2  cellDependencies\n",
      "262392     C49      HCP5  cellDependencies\n",
      "262393  ARFIP1       C49  cellDependencies\n",
      "262394     C49     CDYL2  cellDependencies\n",
      "262395     C49  IGKV3-20  cellDependencies\n",
      "\n",
      "[262396 rows x 3 columns]\n"
     ]
    }
   ],
   "source": [
    "# Combine networks into multigraph\n",
    "multigraph_obj = MultiGraph(graph_dict={\"scaffold\": nw_obj, \"cellDependencies\": cell_nw_obj})\n",
    "print(multigraph_obj)"
   ]
  },
  {
   "cell_type": "code",
   "execution_count": 5,
   "metadata": {},
   "outputs": [
    {
     "name": "stdout",
     "output_type": "stream",
     "text": [
      "Starting with edge type 0: cellDependencies\n",
      "Returning UndirectedInteractionNetwork object.\n",
      "Continuing with Gene_A and Gene_B as columns for the nodes\n",
      "4178 Nodes and 4900 interactions\n"
     ]
    },
    {
     "ename": "TypeError",
     "evalue": "slice indices must be integers or None or have an __index__ method",
     "output_type": "error",
     "traceback": [
      "\u001b[0;31m---------------------------------------------------------------------------\u001b[0m",
      "\u001b[0;31mTypeError\u001b[0m                                 Traceback (most recent call last)",
      "Cell \u001b[0;32mIn[5], line 2\u001b[0m\n\u001b[1;32m      1\u001b[0m X_train, Y_train, X_test, \\\n\u001b[0;32m----> 2\u001b[0m     Y_test, X_val, Y_val, gene2int \u001b[39m=\u001b[39m multigraph_obj\u001b[39m.\u001b[39;49mgetTrainTestData(train_ratio\u001b[39m=\u001b[39;49m\u001b[39m0.7\u001b[39;49m, \n\u001b[1;32m      3\u001b[0m                                                                      neg_pos_ratio\u001b[39m=\u001b[39;49m\u001b[39m5.\u001b[39;49m, \n\u001b[1;32m      4\u001b[0m                                                                      train_validation_ratio\u001b[39m=\u001b[39;49m\u001b[39mNone\u001b[39;49;00m, \n\u001b[1;32m      5\u001b[0m                                                                      excluded_sets\u001b[39m=\u001b[39;49m\u001b[39mNone\u001b[39;49;00m,\n\u001b[1;32m      6\u001b[0m                                                                      random_state\u001b[39m=\u001b[39;49m\u001b[39m42\u001b[39;49m, \n\u001b[1;32m      7\u001b[0m                                                                      mode\u001b[39m=\u001b[39;49m\u001b[39m\"\u001b[39;49m\u001b[39mSLT\u001b[39;49m\u001b[39m\"\u001b[39;49m, debug_mode\u001b[39m=\u001b[39;49m\u001b[39mTrue\u001b[39;49;00m)\n",
      "File \u001b[0;32m~/anaconda3/envs/networkAnalysis_public/lib/python3.10/site-packages/NetworkAnalysis/MultiGraph.py:466\u001b[0m, in \u001b[0;36mMultiGraph.getTrainTestData\u001b[0;34m(self, train_ratio, neg_pos_ratio, train_validation_ratio, excluded_sets, return_summary, random_state, mode, debug_mode)\u001b[0m\n\u001b[1;32m    462\u001b[0m \u001b[39mif\u001b[39;00m mode\u001b[39m.\u001b[39mupper() \u001b[39m==\u001b[39m \u001b[39m\"\u001b[39m\u001b[39mSLT\u001b[39m\u001b[39m\"\u001b[39m:\n\u001b[1;32m    463\u001b[0m     as_dicts \u001b[39m=\u001b[39m \u001b[39mFalse\u001b[39;00m\n\u001b[1;32m    465\u001b[0m pos_train, neg_train, pos_validation, neg_validation, \\\n\u001b[0;32m--> 466\u001b[0m         pos_test, neg_test \u001b[39m=\u001b[39m \u001b[39mself\u001b[39;49m\u001b[39m.\u001b[39;49msample_positives_negatives_in_train_test_validation(test_fraction\u001b[39m=\u001b[39;49m\u001b[39m1.\u001b[39;49m\u001b[39m-\u001b[39;49mtrain_ratio,\n\u001b[1;32m    467\u001b[0m                                                                                       validation_fraction\u001b[39m=\u001b[39;49mtrain_validation_ratio,\n\u001b[1;32m    468\u001b[0m                                                                                       neg_pos_ratio\u001b[39m=\u001b[39;49mneg_pos_ratio,\n\u001b[1;32m    469\u001b[0m                                                                                       excluded_sets\u001b[39m=\u001b[39;49mexcluded_sets,\n\u001b[1;32m    470\u001b[0m                                                                                       random_state\u001b[39m=\u001b[39;49mrandom_state,\n\u001b[1;32m    471\u001b[0m                                                                                       debug_mode\u001b[39m=\u001b[39;49mdebug_mode)\n\u001b[1;32m    473\u001b[0m pos_genes \u001b[39m=\u001b[39m np\u001b[39m.\u001b[39munique(np\u001b[39m.\u001b[39masarray(pos_train))\n\u001b[1;32m    474\u001b[0m \u001b[39massert\u001b[39;00m np\u001b[39m.\u001b[39mall(pos_genes \u001b[39m==\u001b[39m np\u001b[39m.\u001b[39marange(\u001b[39mself\u001b[39m\u001b[39m.\u001b[39mN_nodes))\n",
      "File \u001b[0;32m~/anaconda3/envs/networkAnalysis_public/lib/python3.10/site-packages/NetworkAnalysis/MultiGraph.py:406\u001b[0m, in \u001b[0;36mMultiGraph.sample_positives_negatives_in_train_test_validation\u001b[0;34m(self, test_fraction, validation_fraction, excluded_sets, neg_pos_ratio, random_state, debug_mode)\u001b[0m\n\u001b[1;32m    402\u001b[0m \u001b[39massert\u001b[39;00m \u001b[39mlen\u001b[39m(pos) \u001b[39m==\u001b[39m \u001b[39mlen\u001b[39m(\u001b[39mset\u001b[39m(subnet\u001b[39m.\u001b[39medge_list(return_names\u001b[39m=\u001b[39m\u001b[39mFalse\u001b[39;00m))\u001b[39m.\u001b[39mdifference(excluded_sets\u001b[39m.\u001b[39munion(other_positives)))\n\u001b[1;32m    403\u001b[0m \u001b[39massert\u001b[39;00m \u001b[39mnot\u001b[39;00m \u001b[39mset\u001b[39m(\u001b[39mlist\u001b[39m(\u001b[39mmap\u001b[39m(\u001b[39mtuple\u001b[39m, pos))) \u001b[39m&\u001b[39m \u001b[39mset\u001b[39m(\u001b[39mlist\u001b[39m(\u001b[39mmap\u001b[39m(\u001b[39mtuple\u001b[39m, negs))),\\\n\u001b[1;32m    404\u001b[0m     \u001b[39m\"\u001b[39m\u001b[39mgetTrainTestPairs_MStree: overlap negatives train - test\u001b[39m\u001b[39m\"\u001b[39m\n\u001b[0;32m--> 406\u001b[0m pos_train_, pos_validation_, pos_test_ \u001b[39m=\u001b[39m get_random_rows(pos,\n\u001b[1;32m    407\u001b[0m                                                          fraction1\u001b[39m=\u001b[39;49mtest_fractions_new[edge_type],\n\u001b[1;32m    408\u001b[0m                                                          fraction2\u001b[39m=\u001b[39;49mvalidation_fractions_new[edge_type],\n\u001b[1;32m    409\u001b[0m                                                          as_list_of_tuples\u001b[39m=\u001b[39;49m\u001b[39mTrue\u001b[39;49;00m)\n\u001b[1;32m    411\u001b[0m neg_train_, neg_validation_, neg_test_ \u001b[39m=\u001b[39m get_random_rows(negs,\n\u001b[1;32m    412\u001b[0m                                                          fraction1\u001b[39m=\u001b[39mtest_fractions_new[edge_type],\n\u001b[1;32m    413\u001b[0m                                                          fraction2\u001b[39m=\u001b[39mvalidation_fractions_new[edge_type],\n\u001b[1;32m    414\u001b[0m                                                          as_list_of_tuples\u001b[39m=\u001b[39m\u001b[39mTrue\u001b[39;00m)\n\u001b[1;32m    415\u001b[0m pos_train \u001b[39m+\u001b[39m\u001b[39m=\u001b[39m pos_train_\n",
      "File \u001b[0;32m~/anaconda3/envs/networkAnalysis_public/lib/python3.10/site-packages/NetworkAnalysis/MultiGraph.py:568\u001b[0m, in \u001b[0;36mget_random_rows\u001b[0;34m(arr, fraction1, fraction2, as_list_of_tuples)\u001b[0m\n\u001b[1;32m    564\u001b[0m     N2 \u001b[39m=\u001b[39m \u001b[39m0\u001b[39m\n\u001b[1;32m    566\u001b[0m random_ints \u001b[39m=\u001b[39m np\u001b[39m.\u001b[39mrandom\u001b[39m.\u001b[39mpermutation(np\u001b[39m.\u001b[39marange(arr\u001b[39m.\u001b[39mshape[\u001b[39m0\u001b[39m]))\n\u001b[0;32m--> 568\u001b[0m chunk1_ids \u001b[39m=\u001b[39m random_ints[:N1]\n\u001b[1;32m    569\u001b[0m chunk2_ids \u001b[39m=\u001b[39m random_ints[N1:(N1 \u001b[39m+\u001b[39m N2)]\n\u001b[1;32m    570\u001b[0m chunk3_ids \u001b[39m=\u001b[39m random_ints[(N1 \u001b[39m+\u001b[39m N2):]\n",
      "\u001b[0;31mTypeError\u001b[0m: slice indices must be integers or None or have an __index__ method"
     ]
    }
   ],
   "source": [
    "X_train, Y_train, X_test, \\\n",
    "    Y_test, X_val, Y_val, gene2int = multigraph_obj.getTrainTestData(train_ratio=0.7, \n",
    "                                                                     neg_pos_ratio=5., \n",
    "                                                                     train_validation_ratio=None, \n",
    "                                                                     excluded_sets=None,\n",
    "                                                                     random_state=42, \n",
    "                                                                     mode=\"SLT\", debug_mode=True)\n"
   ]
  },
  {
   "attachments": {},
   "cell_type": "markdown",
   "metadata": {},
   "source": []
  }
 ],
 "metadata": {
  "kernelspec": {
   "display_name": "networkAnalysis_public",
   "language": "python",
   "name": "python3"
  },
  "language_info": {
   "codemirror_mode": {
    "name": "ipython",
    "version": 3
   },
   "file_extension": ".py",
   "mimetype": "text/x-python",
   "name": "python",
   "nbconvert_exporter": "python",
   "pygments_lexer": "ipython3",
   "version": "3.10.11"
  },
  "orig_nbformat": 4
 },
 "nbformat": 4,
 "nbformat_minor": 2
}
